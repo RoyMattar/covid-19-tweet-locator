{
 "cells": [
  {
   "cell_type": "code",
   "execution_count": 21,
   "metadata": {},
   "outputs": [],
   "source": [
    "import pandas as pd\n",
    "from glob import glob\n",
    "from tqdm import tqdm_notebook as tqdm\n",
    "import ast"
   ]
  },
  {
   "cell_type": "code",
   "execution_count": 22,
   "metadata": {},
   "outputs": [
    {
     "data": {
      "application/vnd.jupyter.widget-view+json": {
       "model_id": "fe0999f809d7478f851c78c29dd4e74e",
       "version_major": 2,
       "version_minor": 0
      },
      "text/plain": [
       "HBox(children=(IntProgress(value=0, description='Loading CSV data', max=11, style=ProgressStyle(description_wi…"
      ]
     },
     "metadata": {},
     "output_type": "display_data"
    },
    {
     "name": "stdout",
     "output_type": "stream",
     "text": [
      "\n"
     ]
    }
   ],
   "source": [
    "fns = glob('../tweets/*.csv')\n",
    "dfs = (pd.read_csv(fn, engine='python') for fn in fns)\n",
    "df = pd.concat(list(tqdm(dfs, total = len(fns), desc = 'Loading CSV data')), sort = False)"
   ]
  },
  {
   "cell_type": "code",
   "execution_count": 23,
   "metadata": {},
   "outputs": [
    {
     "name": "stdout",
     "output_type": "stream",
     "text": [
      "92.3% of data is clean (100325 tweets)\n"
     ]
    }
   ],
   "source": [
    "# remove outliers\n",
    "cleaned = df.copy()\n",
    "lengths = cleaned.full_text.str.len()\n",
    "cleaned = cleaned[(50 < lengths) & (lengths < 250)]\n",
    "cleaned['hashtags'] = cleaned.hashtags.apply(ast.literal_eval).apply(lambda x: ';'.join(list(sorted({y['text'] for y in x}))))\n",
    "cleaned = cleaned[[\n",
    "    'full_text', 'id', 'retweet_count', 'hashtags', 'user_name',\n",
    "    'user_screen_name', 'user_statuses_count', 'user_followers_count', 'user_description',\n",
    "    'user_location', 'user_created_at', 'q'\n",
    "]]\n",
    "cleaned['is_retweet'] = cleaned.full_text.str.startswith('RT ')\n",
    "cleaned = cleaned.copy().fillna('')\n",
    "print(f'{100 * cleaned.shape[0] / df.shape[0]:.1f}% of data is clean ({cleaned.shape[0]} tweets)')\n",
    "# cleaned = cleaned[~cleaned.is_retweet].copy().drop(columns = ['is_retweet'])\n",
    "# print(f'{100 * cleaned.shape[0] / df.shape[0]:.1f}% of data is clean & original ({cleaned.shape[0]} tweets)')"
   ]
  },
  {
   "cell_type": "code",
   "execution_count": 24,
   "metadata": {},
   "outputs": [],
   "source": [
    "cleaned['text_cleaned'] = (\n",
    "    cleaned.full_text.str.replace(\n",
    "        '#', ' # '\n",
    "    ).str.replace(\n",
    "        'https?://[^\\s]*', ''# '::'\n",
    "    ).str.replace(\n",
    "        r'@[^\\s]*', '' #'@@'\n",
    "    ).str.replace(' +', ' ')\n",
    ")"
   ]
  },
  {
   "cell_type": "code",
   "execution_count": 25,
   "metadata": {
    "scrolled": true
   },
   "outputs": [
    {
     "data": {
      "text/plain": [
       "0    RT For context: # China 's govt covered up # C...\n",
       "1    RT Actress # AnkitaLokhande's Mumbai apartment...\n",
       "2    RT # CoronavirusOutbreak and Lockdown ke baad ...\n",
       "3    RT Secunderabad Cantonment Board (SCB) officia...\n",
       "4    RT KP has notified a committee to look at and ...\n",
       "Name: text_cleaned, dtype: object"
      ]
     },
     "execution_count": 25,
     "metadata": {},
     "output_type": "execute_result"
    }
   ],
   "source": [
    "cleaned['text_cleaned'].head()"
   ]
  },
  {
   "cell_type": "code",
   "execution_count": 26,
   "metadata": {},
   "outputs": [],
   "source": [
    "cleaned.to_csv('../cleaned_data.csv', index = False)"
   ]
  },
  {
   "cell_type": "code",
   "execution_count": 27,
   "metadata": {},
   "outputs": [
    {
     "name": "stdout",
     "output_type": "stream",
     "text": [
      "-rw-r--r--  1 morris.alper  staff    45M Apr  5 23:07 ../cleaned_data.csv\r\n"
     ]
    }
   ],
   "source": [
    "! ls -lh ../cleaned_data.csv"
   ]
  }
 ],
 "metadata": {
  "kernelspec": {
   "display_name": "Python 3",
   "language": "python",
   "name": "python3"
  },
  "language_info": {
   "codemirror_mode": {
    "name": "ipython",
    "version": 3
   },
   "file_extension": ".py",
   "mimetype": "text/x-python",
   "name": "python",
   "nbconvert_exporter": "python",
   "pygments_lexer": "ipython3",
   "version": "3.7.4"
  }
 },
 "nbformat": 4,
 "nbformat_minor": 2
}
