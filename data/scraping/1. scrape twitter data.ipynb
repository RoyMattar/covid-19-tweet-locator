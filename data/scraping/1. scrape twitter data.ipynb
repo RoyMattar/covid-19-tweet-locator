{
 "cells": [
  {
   "cell_type": "code",
   "execution_count": 1,
   "metadata": {},
   "outputs": [],
   "source": [
    "from tweet_scraper import TweetScraper\n",
    "from urllib.parse import quote\n",
    "from tqdm import tqdm_notebook as tqdm\n",
    "import pandas as pd\n",
    "import os"
   ]
  },
  {
   "cell_type": "code",
   "execution_count": 2,
   "metadata": {},
   "outputs": [
    {
     "name": "stdout",
     "output_type": "stream",
     "text": [
      "Twitter API token:AAAAAAAAAAAAAAAAAAAAAMCtDQEAAAAAOu1IlMa1wA3M4XCGs%2F3YQKMFjH0%3DehxnyCZvhBmSK03dWH6DzRwmiZucW0wAmESuCNCiulnZRBNhvL\n"
     ]
    }
   ],
   "source": [
    "scraper = TweetScraper()"
   ]
  },
  {
   "cell_type": "code",
   "execution_count": 3,
   "metadata": {},
   "outputs": [],
   "source": [
    "keywords = [\n",
    "    'Coronavirus', 'coronavirus', 'corona virus',\n",
    "    'COVID-19', 'COVID19', 'CoronavirusOutbreak',\n",
    "    'covid-19', 'covid19', 'covid', 'quarantine',\n",
    "    'lockdown', 'social distancing', 'pandemic',\n",
    "    'epidemic'\n",
    "]"
   ]
  },
  {
   "cell_type": "code",
   "execution_count": 4,
   "metadata": {},
   "outputs": [],
   "source": [
    "keyword_df = pd.DataFrame({'keyword': keywords})\n",
    "keyword_df['quoted'] = keyword_df.keyword.apply(quote)\n",
    "keyword_df['filename'] = '../tweets/' + keyword_df.quoted + '.csv'\n",
    "keyword_df['isfile'] = keyword_df.filename.apply(os.path.isfile)\n",
    "missing = ~keyword_df.isfile"
   ]
  },
  {
   "cell_type": "code",
   "execution_count": 5,
   "metadata": {},
   "outputs": [
    {
     "data": {
      "text/plain": [
       "True    14\n",
       "Name: isfile, dtype: int64"
      ]
     },
     "execution_count": 5,
     "metadata": {},
     "output_type": "execute_result"
    }
   ],
   "source": [
    "keyword_df.isfile.value_counts()"
   ]
  },
  {
   "cell_type": "code",
   "execution_count": 6,
   "metadata": {},
   "outputs": [
    {
     "data": {
      "text/html": [
       "<div>\n",
       "<style scoped>\n",
       "    .dataframe tbody tr th:only-of-type {\n",
       "        vertical-align: middle;\n",
       "    }\n",
       "\n",
       "    .dataframe tbody tr th {\n",
       "        vertical-align: top;\n",
       "    }\n",
       "\n",
       "    .dataframe thead th {\n",
       "        text-align: right;\n",
       "    }\n",
       "</style>\n",
       "<table border=\"1\" class=\"dataframe\">\n",
       "  <thead>\n",
       "    <tr style=\"text-align: right;\">\n",
       "      <th></th>\n",
       "      <th>keyword</th>\n",
       "      <th>quoted</th>\n",
       "      <th>filename</th>\n",
       "      <th>isfile</th>\n",
       "    </tr>\n",
       "  </thead>\n",
       "  <tbody>\n",
       "  </tbody>\n",
       "</table>\n",
       "</div>"
      ],
      "text/plain": [
       "Empty DataFrame\n",
       "Columns: [keyword, quoted, filename, isfile]\n",
       "Index: []"
      ]
     },
     "execution_count": 6,
     "metadata": {},
     "output_type": "execute_result"
    }
   ],
   "source": [
    "keyword_df[missing]"
   ]
  },
  {
   "cell_type": "code",
   "execution_count": 7,
   "metadata": {},
   "outputs": [
    {
     "data": {
      "application/vnd.jupyter.widget-view+json": {
       "model_id": "40723ec8c11041c4840ba45c14ca6e93",
       "version_major": 2,
       "version_minor": 0
      },
      "text/plain": [
       "HBox(children=(IntProgress(value=1, bar_style='info', max=1), HTML(value='')))"
      ]
     },
     "metadata": {},
     "output_type": "display_data"
    },
    {
     "name": "stdout",
     "output_type": "stream",
     "text": [
      "\n"
     ]
    }
   ],
   "source": [
    "pbar = tqdm(keyword_df[missing].itertuples(), total = keyword_df[missing].shape[0])\n",
    "for row in pbar:\n",
    "    assert not os.path.isfile(row.filename)\n",
    "    pbar.set_description(f'{row.keyword} => {row.filename}')\n",
    "    df = scraper.search(row.keyword, pages = 100)\n",
    "    df.to_csv(row.filename, index = False)"
   ]
  },
  {
   "cell_type": "code",
   "execution_count": 8,
   "metadata": {},
   "outputs": [
    {
     "name": "stdout",
     "output_type": "stream",
     "text": [
      " 61M\t../tweets\n",
      "\n",
      "6.7M\t../tweets/CoronavirusOutbreak.csv\n",
      "5.9M\t../tweets/COVID19.csv\n",
      "5.7M\t../tweets/social%20distancing.csv\n",
      "5.6M\t../tweets/coronavirus.csv\n",
      "5.5M\t../tweets/pandemic.csv\n",
      "5.5M\t../tweets/lockdown.csv\n",
      "5.5M\t../tweets/epidemic.csv\n",
      "5.5M\t../tweets/covid.csv\n",
      "5.5M\t../tweets/COVID-19.csv\n",
      "5.4M\t../tweets/corona%20virus.csv\n",
      "4.4M\t../tweets/quarantine.csv\n"
     ]
    }
   ],
   "source": [
    "! du -h ../tweets\n",
    "! echo\n",
    "! du -h ../tweets/*.csv | sort -rh"
   ]
  }
 ],
 "metadata": {
  "kernelspec": {
   "display_name": "Python 3",
   "language": "python",
   "name": "python3"
  },
  "language_info": {
   "codemirror_mode": {
    "name": "ipython",
    "version": 3
   },
   "file_extension": ".py",
   "mimetype": "text/x-python",
   "name": "python",
   "nbconvert_exporter": "python",
   "pygments_lexer": "ipython3",
   "version": "3.7.4"
  }
 },
 "nbformat": 4,
 "nbformat_minor": 2
}
